{
 "cells": [
  {
   "cell_type": "markdown",
   "id": "d7ce5cc3-a63d-4f89-8dda-9654b743f1c9",
   "metadata": {},
   "source": [
    "# Herramientas GNU/Linux\n",
    "\n",
    "Este documento muestra el uso de los comandos **grep, sort, cut, tr, uniq, joint, paste** y ejemplos con tail ,head, echo y el pipe \"|\".\n",
    "\n",
    "## GREP\n",
    "\n",
    "Busca patrones en cada archivo  e imprime cada linea que coincida con el patron.\n",
    "\n",
    "### Caso 1 \n",
    "\n",
    "De una lista se requiere de extraer los datos para la estación BJU\n",
    "\n",
    "```\n",
    "grep -i -e BJU lista.dat\n",
    "```"
   ]
  },
  {
   "cell_type": "code",
   "execution_count": 1,
   "id": "3e691fe1-5f0c-45e4-9be4-4105793ac440",
   "metadata": {},
   "outputs": [
    {
     "name": "stderr",
     "output_type": "stream",
     "text": [
      "grep: lista.dat: No existe el fichero o el directorio\n"
     ]
    },
    {
     "ename": "CalledProcessError",
     "evalue": "Command 'b'\\ngrep PMCO lista.dat\\n'' returned non-zero exit status 2.",
     "output_type": "error",
     "traceback": [
      "\u001b[0;31m---------------------------------------------------------------------------\u001b[0m",
      "\u001b[0;31mCalledProcessError\u001b[0m                        Traceback (most recent call last)",
      "\u001b[0;32m/tmp/ipykernel_3959911/1494206240.py\u001b[0m in \u001b[0;36m<module>\u001b[0;34m\u001b[0m\n\u001b[0;32m----> 1\u001b[0;31m \u001b[0mget_ipython\u001b[0m\u001b[0;34m(\u001b[0m\u001b[0;34m)\u001b[0m\u001b[0;34m.\u001b[0m\u001b[0mrun_cell_magic\u001b[0m\u001b[0;34m(\u001b[0m\u001b[0;34m'bash'\u001b[0m\u001b[0;34m,\u001b[0m \u001b[0;34m'-l'\u001b[0m\u001b[0;34m,\u001b[0m \u001b[0;34m'\\ngrep PMCO lista.dat\\n'\u001b[0m\u001b[0;34m)\u001b[0m\u001b[0;34m\u001b[0m\u001b[0;34m\u001b[0m\u001b[0m\n\u001b[0m",
      "\u001b[0;32m/opt/miniforge3/envs/jupyterlab/lib/python3.10/site-packages/IPython/core/interactiveshell.py\u001b[0m in \u001b[0;36mrun_cell_magic\u001b[0;34m(self, magic_name, line, cell)\u001b[0m\n\u001b[1;32m   2417\u001b[0m             \u001b[0;32mwith\u001b[0m \u001b[0mself\u001b[0m\u001b[0;34m.\u001b[0m\u001b[0mbuiltin_trap\u001b[0m\u001b[0;34m:\u001b[0m\u001b[0;34m\u001b[0m\u001b[0;34m\u001b[0m\u001b[0m\n\u001b[1;32m   2418\u001b[0m                 \u001b[0margs\u001b[0m \u001b[0;34m=\u001b[0m \u001b[0;34m(\u001b[0m\u001b[0mmagic_arg_s\u001b[0m\u001b[0;34m,\u001b[0m \u001b[0mcell\u001b[0m\u001b[0;34m)\u001b[0m\u001b[0;34m\u001b[0m\u001b[0;34m\u001b[0m\u001b[0m\n\u001b[0;32m-> 2419\u001b[0;31m                 \u001b[0mresult\u001b[0m \u001b[0;34m=\u001b[0m \u001b[0mfn\u001b[0m\u001b[0;34m(\u001b[0m\u001b[0;34m*\u001b[0m\u001b[0margs\u001b[0m\u001b[0;34m,\u001b[0m \u001b[0;34m**\u001b[0m\u001b[0mkwargs\u001b[0m\u001b[0;34m)\u001b[0m\u001b[0;34m\u001b[0m\u001b[0;34m\u001b[0m\u001b[0m\n\u001b[0m\u001b[1;32m   2420\u001b[0m             \u001b[0;32mreturn\u001b[0m \u001b[0mresult\u001b[0m\u001b[0;34m\u001b[0m\u001b[0;34m\u001b[0m\u001b[0m\n\u001b[1;32m   2421\u001b[0m \u001b[0;34m\u001b[0m\u001b[0m\n",
      "\u001b[0;32m/opt/miniforge3/envs/jupyterlab/lib/python3.10/site-packages/IPython/core/magics/script.py\u001b[0m in \u001b[0;36mnamed_script_magic\u001b[0;34m(line, cell)\u001b[0m\n\u001b[1;32m    140\u001b[0m             \u001b[0;32melse\u001b[0m\u001b[0;34m:\u001b[0m\u001b[0;34m\u001b[0m\u001b[0;34m\u001b[0m\u001b[0m\n\u001b[1;32m    141\u001b[0m                 \u001b[0mline\u001b[0m \u001b[0;34m=\u001b[0m \u001b[0mscript\u001b[0m\u001b[0;34m\u001b[0m\u001b[0;34m\u001b[0m\u001b[0m\n\u001b[0;32m--> 142\u001b[0;31m             \u001b[0;32mreturn\u001b[0m \u001b[0mself\u001b[0m\u001b[0;34m.\u001b[0m\u001b[0mshebang\u001b[0m\u001b[0;34m(\u001b[0m\u001b[0mline\u001b[0m\u001b[0;34m,\u001b[0m \u001b[0mcell\u001b[0m\u001b[0;34m)\u001b[0m\u001b[0;34m\u001b[0m\u001b[0;34m\u001b[0m\u001b[0m\n\u001b[0m\u001b[1;32m    143\u001b[0m \u001b[0;34m\u001b[0m\u001b[0m\n\u001b[1;32m    144\u001b[0m         \u001b[0;31m# write a basic docstring:\u001b[0m\u001b[0;34m\u001b[0m\u001b[0;34m\u001b[0m\u001b[0m\n",
      "\u001b[0;32m/opt/miniforge3/envs/jupyterlab/lib/python3.10/site-packages/decorator.py\u001b[0m in \u001b[0;36mfun\u001b[0;34m(*args, **kw)\u001b[0m\n\u001b[1;32m    230\u001b[0m             \u001b[0;32mif\u001b[0m \u001b[0;32mnot\u001b[0m \u001b[0mkwsyntax\u001b[0m\u001b[0;34m:\u001b[0m\u001b[0;34m\u001b[0m\u001b[0;34m\u001b[0m\u001b[0m\n\u001b[1;32m    231\u001b[0m                 \u001b[0margs\u001b[0m\u001b[0;34m,\u001b[0m \u001b[0mkw\u001b[0m \u001b[0;34m=\u001b[0m \u001b[0mfix\u001b[0m\u001b[0;34m(\u001b[0m\u001b[0margs\u001b[0m\u001b[0;34m,\u001b[0m \u001b[0mkw\u001b[0m\u001b[0;34m,\u001b[0m \u001b[0msig\u001b[0m\u001b[0;34m)\u001b[0m\u001b[0;34m\u001b[0m\u001b[0;34m\u001b[0m\u001b[0m\n\u001b[0;32m--> 232\u001b[0;31m             \u001b[0;32mreturn\u001b[0m \u001b[0mcaller\u001b[0m\u001b[0;34m(\u001b[0m\u001b[0mfunc\u001b[0m\u001b[0;34m,\u001b[0m \u001b[0;34m*\u001b[0m\u001b[0;34m(\u001b[0m\u001b[0mextras\u001b[0m \u001b[0;34m+\u001b[0m \u001b[0margs\u001b[0m\u001b[0;34m)\u001b[0m\u001b[0;34m,\u001b[0m \u001b[0;34m**\u001b[0m\u001b[0mkw\u001b[0m\u001b[0;34m)\u001b[0m\u001b[0;34m\u001b[0m\u001b[0;34m\u001b[0m\u001b[0m\n\u001b[0m\u001b[1;32m    233\u001b[0m     \u001b[0mfun\u001b[0m\u001b[0;34m.\u001b[0m\u001b[0m__name__\u001b[0m \u001b[0;34m=\u001b[0m \u001b[0mfunc\u001b[0m\u001b[0;34m.\u001b[0m\u001b[0m__name__\u001b[0m\u001b[0;34m\u001b[0m\u001b[0;34m\u001b[0m\u001b[0m\n\u001b[1;32m    234\u001b[0m     \u001b[0mfun\u001b[0m\u001b[0;34m.\u001b[0m\u001b[0m__doc__\u001b[0m \u001b[0;34m=\u001b[0m \u001b[0mfunc\u001b[0m\u001b[0;34m.\u001b[0m\u001b[0m__doc__\u001b[0m\u001b[0;34m\u001b[0m\u001b[0;34m\u001b[0m\u001b[0m\n",
      "\u001b[0;32m/opt/miniforge3/envs/jupyterlab/lib/python3.10/site-packages/IPython/core/magic.py\u001b[0m in \u001b[0;36m<lambda>\u001b[0;34m(f, *a, **k)\u001b[0m\n\u001b[1;32m    185\u001b[0m     \u001b[0;31m# but it's overkill for just that one bit of state.\u001b[0m\u001b[0;34m\u001b[0m\u001b[0;34m\u001b[0m\u001b[0m\n\u001b[1;32m    186\u001b[0m     \u001b[0;32mdef\u001b[0m \u001b[0mmagic_deco\u001b[0m\u001b[0;34m(\u001b[0m\u001b[0marg\u001b[0m\u001b[0;34m)\u001b[0m\u001b[0;34m:\u001b[0m\u001b[0;34m\u001b[0m\u001b[0;34m\u001b[0m\u001b[0m\n\u001b[0;32m--> 187\u001b[0;31m         \u001b[0mcall\u001b[0m \u001b[0;34m=\u001b[0m \u001b[0;32mlambda\u001b[0m \u001b[0mf\u001b[0m\u001b[0;34m,\u001b[0m \u001b[0;34m*\u001b[0m\u001b[0ma\u001b[0m\u001b[0;34m,\u001b[0m \u001b[0;34m**\u001b[0m\u001b[0mk\u001b[0m\u001b[0;34m:\u001b[0m \u001b[0mf\u001b[0m\u001b[0;34m(\u001b[0m\u001b[0;34m*\u001b[0m\u001b[0ma\u001b[0m\u001b[0;34m,\u001b[0m \u001b[0;34m**\u001b[0m\u001b[0mk\u001b[0m\u001b[0;34m)\u001b[0m\u001b[0;34m\u001b[0m\u001b[0;34m\u001b[0m\u001b[0m\n\u001b[0m\u001b[1;32m    188\u001b[0m \u001b[0;34m\u001b[0m\u001b[0m\n\u001b[1;32m    189\u001b[0m         \u001b[0;32mif\u001b[0m \u001b[0mcallable\u001b[0m\u001b[0;34m(\u001b[0m\u001b[0marg\u001b[0m\u001b[0;34m)\u001b[0m\u001b[0;34m:\u001b[0m\u001b[0;34m\u001b[0m\u001b[0;34m\u001b[0m\u001b[0m\n",
      "\u001b[0;32m/opt/miniforge3/envs/jupyterlab/lib/python3.10/site-packages/IPython/core/magics/script.py\u001b[0m in \u001b[0;36mshebang\u001b[0;34m(self, line, cell)\u001b[0m\n\u001b[1;32m    243\u001b[0m             \u001b[0msys\u001b[0m\u001b[0;34m.\u001b[0m\u001b[0mstderr\u001b[0m\u001b[0;34m.\u001b[0m\u001b[0mflush\u001b[0m\u001b[0;34m(\u001b[0m\u001b[0;34m)\u001b[0m\u001b[0;34m\u001b[0m\u001b[0;34m\u001b[0m\u001b[0m\n\u001b[1;32m    244\u001b[0m         \u001b[0;32mif\u001b[0m \u001b[0margs\u001b[0m\u001b[0;34m.\u001b[0m\u001b[0mraise_error\u001b[0m \u001b[0;32mand\u001b[0m \u001b[0mp\u001b[0m\u001b[0;34m.\u001b[0m\u001b[0mreturncode\u001b[0m\u001b[0;34m!=\u001b[0m\u001b[0;36m0\u001b[0m\u001b[0;34m:\u001b[0m\u001b[0;34m\u001b[0m\u001b[0;34m\u001b[0m\u001b[0m\n\u001b[0;32m--> 245\u001b[0;31m             \u001b[0;32mraise\u001b[0m \u001b[0mCalledProcessError\u001b[0m\u001b[0;34m(\u001b[0m\u001b[0mp\u001b[0m\u001b[0;34m.\u001b[0m\u001b[0mreturncode\u001b[0m\u001b[0;34m,\u001b[0m \u001b[0mcell\u001b[0m\u001b[0;34m,\u001b[0m \u001b[0moutput\u001b[0m\u001b[0;34m=\u001b[0m\u001b[0mout\u001b[0m\u001b[0;34m,\u001b[0m \u001b[0mstderr\u001b[0m\u001b[0;34m=\u001b[0m\u001b[0merr\u001b[0m\u001b[0;34m)\u001b[0m\u001b[0;34m\u001b[0m\u001b[0;34m\u001b[0m\u001b[0m\n\u001b[0m\u001b[1;32m    246\u001b[0m \u001b[0;34m\u001b[0m\u001b[0m\n\u001b[1;32m    247\u001b[0m     \u001b[0;32mdef\u001b[0m \u001b[0m_run_script\u001b[0m\u001b[0;34m(\u001b[0m\u001b[0mself\u001b[0m\u001b[0;34m,\u001b[0m \u001b[0mp\u001b[0m\u001b[0;34m,\u001b[0m \u001b[0mcell\u001b[0m\u001b[0;34m,\u001b[0m \u001b[0mto_close\u001b[0m\u001b[0;34m)\u001b[0m\u001b[0;34m:\u001b[0m\u001b[0;34m\u001b[0m\u001b[0;34m\u001b[0m\u001b[0m\n",
      "\u001b[0;31mCalledProcessError\u001b[0m: Command 'b'\\ngrep PMCO lista.dat\\n'' returned non-zero exit status 2."
     ]
    }
   ],
   "source": [
    "%%bash -l\n",
    "\n",
    "grep PMCO lista.dat"
   ]
  },
  {
   "cell_type": "markdown",
   "id": "398684eb-6936-467f-af74-9eeb6080f9c5",
   "metadata": {},
   "source": [
    "### Caso 2\n",
    "\n",
    "Se requiere encontrar dos parámetros tanto la estación __CUA__ como la variable __PMCO__, ignorando si son mayúsculas o minúsculas (-i).\n",
    "\n",
    "```\n",
    "grep  -i -e cua -e pmco lista.dat\n",
    "```"
   ]
  },
  {
   "cell_type": "code",
   "execution_count": 3,
   "id": "8f777451-8dfe-4b7f-a433-8a447c390cfa",
   "metadata": {},
   "outputs": [
    {
     "name": "stdout",
     "output_type": "stream",
     "text": [
      "01/01/2021 01:00,PMCO,MGH\n",
      "01/01/2021 01:00,PMCO,AJM\n",
      "01/01/2021 01:00,PMCO,MPA\n",
      "01/01/2021 01:00,PMCO,BJU\n",
      "01/01/2021 01:00,PMCO,INN\n",
      "01/01/2021 01:00,PMCO,GAM\n",
      "01/01/2021 02:00,PMCO,CAM\n",
      "01/01/2021 02:00,CO,CUA\n",
      "01/01/2021 02:00,NO,CUA\n",
      "01/01/2021 02:00,NO2,CUA\n",
      "01/01/2021 02:00,PMCO,BJU\n",
      "01/01/2021 02:00,PMCO,MGH\n",
      "01/01/2021 03:00,PMCO,BJU\n",
      "01/01/2021 04:00,PMCO,BJU\n"
     ]
    }
   ],
   "source": [
    "%%bash -l\n",
    "\n",
    "grep -i -e cua -e pmco lista.dat"
   ]
  },
  {
   "cell_type": "markdown",
   "id": "08d341d5-03f3-486f-9f77-5d9fa3ace52c",
   "metadata": {},
   "source": [
    "### Caso 3\n",
    "\n",
    "Si se requiere que sean exclusivas se puede emplear el comando pipe \"__|__\" para hacer un filtrado para luego volvera realizar otro filtrado:\n",
    "\n",
    "```\n",
    "grep -i -e BJU lista.dat | grep PMCO\n",
    "```"
   ]
  },
  {
   "cell_type": "code",
   "execution_count": 4,
   "id": "eed61390-30db-403e-afd7-149ded8c8582",
   "metadata": {},
   "outputs": [
    {
     "name": "stdout",
     "output_type": "stream",
     "text": [
      "01/01/2021 01:00,PMCO,BJU\n",
      "01/01/2021 02:00,PMCO,BJU\n",
      "01/01/2021 03:00,PMCO,BJU\n",
      "01/01/2021 04:00,PMCO,BJU\n"
     ]
    }
   ],
   "source": [
    "%%bash -l\n",
    "grep -i -e bju lista.dat |grep  PMCO"
   ]
  },
  {
   "cell_type": "markdown",
   "id": "192feae1-6e73-4396-8125-dc3d96f6afc5",
   "metadata": {},
   "source": [
    "## SORT\n",
    "\n",
    "sort - ordena las líneas de un archivo de texto\n",
    "\n",
    "### Caso 4\n",
    "\n",
    "Se desea ordenar el archivo por la estacion que es la columna 3 (-k 3) y esta separado por comas (-t \",\"):\n",
    "\n",
    "```\n",
    "sort -k3 -t\",\" lista.dat > lista_Est.txt\n",
    "```\n",
    "\n",
    "las salidas se direccionana al archivo lista_Est.txt con el caracter: \"__>__\""
   ]
  },
  {
   "cell_type": "code",
   "execution_count": 5,
   "id": "ca43b1c7-7d60-45ff-9d56-4551df24cc5d",
   "metadata": {},
   "outputs": [
    {
     "name": "stdout",
     "output_type": "stream",
     "text": [
      "01/01/2021 02:00,CO,ACO\n",
      "01/01/2021 02:00,CO,ACO\n",
      "01/01/2021 02:00,NO2,ACO\n",
      "...\n",
      "01/01/2021 01:00,O3,SAC\n",
      "01/01/2021 01:00,PM2.5,SAC\n",
      "01/01/2021 01:00,SO2,SAC\n",
      "Líneas en el archivo\n",
      "152 lista_Est.txt\n"
     ]
    }
   ],
   "source": [
    "%%bash -l\n",
    "\n",
    "sort -k3 -t\",\" lista.dat >lista_Est.txt\n",
    "\n",
    "# Verficacion de resultados\n",
    "head -3 lista_Est.txt\n",
    "echo \"...\"\n",
    "tail -3 lista_Est.txt\n",
    "echo \"Líneas en el archivo\"; wc -l lista_Est.txt"
   ]
  },
  {
   "cell_type": "markdown",
   "id": "0b776316-8597-4df1-8569-483f759a9618",
   "metadata": {},
   "source": [
    "### Caso 5\n",
    "\n",
    "Se desea ordenar el archivo por compuesto (columna 2) y \n",
    "\n",
    "```\n",
    "sort -k2 -t, lista.dat >lista_comp.txt\n",
    "\n",
    "```"
   ]
  },
  {
   "cell_type": "code",
   "execution_count": 6,
   "id": "f7a3e2de-d018-4376-bcc9-941ba7aaae29",
   "metadata": {},
   "outputs": [
    {
     "name": "stdout",
     "output_type": "stream",
     "text": [
      "01/01/2021 02:00,CO,ACO\n",
      "01/01/2021 02:00,CO,ACO\n",
      "01/01/2021 01:00,CO,AJM\n",
      "...\n",
      "01/01/2021 02:00,SO2,MON\n",
      "01/01/2021 01:00,SO2,MPA\n",
      "01/01/2021 01:00,SO2,SAC\n",
      "Líneas en el archivo\n",
      "152 lista_comp.txt\n"
     ]
    }
   ],
   "source": [
    "%%bash -l\n",
    "\n",
    "sort -k2 -t, lista.dat >lista_comp.txt\n",
    "\n",
    "# Para comprobar que lo hizo\n",
    "head -3 lista_comp.txt\n",
    "echo \"...\"\n",
    "tail -3 lista_comp.txt\n",
    "echo \"Líneas en el archivo\"; wc -l lista_comp.txt"
   ]
  },
  {
   "cell_type": "markdown",
   "id": "2889d418-9e3d-4a67-be5c-5d4a848f0980",
   "metadata": {},
   "source": [
    "# TR\n",
    "\n",
    "tr - cambia o remueve caracteres en cada inea del archivo.\n",
    "\n",
    "### CASO 6\n",
    "\n",
    "Substituir de un archivo los caracteres \",\" por tabulaciones \"\\t\"\n",
    "\n",
    "  esta es una forma de hacerlo:\n",
    "```\n",
    "cat lista_Est.txt | tr \",\" \"\\t\"  > lista_Est_tab.txt\n",
    "```\n",
    "\n",
    "y esta es otra forma:\n",
    "```\n",
    "tr \",\" \"\\t\" < lista_Est.txt > lista_Est_tab.txt\n",
    "```"
   ]
  },
  {
   "cell_type": "code",
   "execution_count": 7,
   "id": "4f7b486d-8f5a-4730-8960-64bb7e865813",
   "metadata": {},
   "outputs": [
    {
     "name": "stdout",
     "output_type": "stream",
     "text": [
      "01/01/2021 02:00\tCO\tACO\n",
      "01/01/2021 02:00\tCO\tACO\n",
      "01/01/2021 02:00\tNO2\tACO\n"
     ]
    }
   ],
   "source": [
    "%%bash -l\n",
    "\n",
    "tr \",\" \"\\t\" < lista_Est.txt > lista_Est_tab.txt\n",
    "\n",
    "# para verificar el resultado\n",
    "head -3 lista_Est_tab.txt"
   ]
  },
  {
   "cell_type": "markdown",
   "id": "49268c37-4d52-4ebc-a09d-3bd4af449b29",
   "metadata": {},
   "source": [
    "para substituir por espacios:\n",
    "```\n",
    "tr \",\" \" \" < lista_comp.txt > lista_comp_esp.txt\n",
    "```"
   ]
  },
  {
   "cell_type": "code",
   "execution_count": 8,
   "id": "cf69ec8c-05dc-4a5b-8b6e-20743eee887f",
   "metadata": {},
   "outputs": [
    {
     "name": "stdout",
     "output_type": "stream",
     "text": [
      "01/01/2021 02:00 CO ACO\n",
      "01/01/2021 02:00 CO ACO\n",
      "01/01/2021 01:00 CO AJM\n"
     ]
    }
   ],
   "source": [
    "%%bash -l\n",
    "tr \",\" \" \" < lista_comp.txt > lista_comp_esp.txt\n",
    "\n",
    "# para revisar el cambio de coma a espacio\n",
    "head -3 lista_comp_esp.txt"
   ]
  },
  {
   "cell_type": "markdown",
   "id": "e7925027-073c-49d0-bb04-dad4ac46a374",
   "metadata": {},
   "source": [
    "# CUT\n",
    "\n",
    "cut - elimina fragmentos en cada línea de un archivo\n",
    "\n",
    "### Caso 7\n",
    "\n",
    "Seleccionar solo la columna de contaminantes (estan en la columna 2 por lo que se usa -f2)del archivo _lista.txt_ si se encuentra separado por comas (-d,).\n",
    "\n",
    "```\n",
    "cut -d, -f2 lista_comp.txt > lista_comp1.txt \n",
    "\n",
    "```\n"
   ]
  },
  {
   "cell_type": "code",
   "execution_count": 9,
   "id": "e7b88621-2df4-4cb8-8da3-a20d50e0dfb6",
   "metadata": {},
   "outputs": [
    {
     "name": "stdout",
     "output_type": "stream",
     "text": [
      "CO\n",
      "CO\n",
      "CO\n",
      "...\n",
      "SO2\n",
      "SO2\n",
      "SO2\n",
      "152 lista_comp1.txt\n"
     ]
    }
   ],
   "source": [
    "%%bash -l \n",
    "cut -d, -f2 lista_comp.txt > lista_comp1.txt\n",
    "\n",
    "head -3 lista_comp1.txt\n",
    "echo ...\n",
    "tail -3 lista_comp1.txt\n",
    "wc -l lista_comp1.txt"
   ]
  },
  {
   "cell_type": "markdown",
   "id": "92d284ce-0a57-48fe-b2cf-896e4a3f5ac5",
   "metadata": {},
   "source": [
    "# UNIQ\n",
    "\n",
    "uniq - muestra u omite líneas duplicadas\n",
    "\n",
    "### Caso 8\n",
    "\n",
    "Muestra los compuestos unicos en el archivo lista_comp1.txt\n",
    "```\n",
    "uniq lista_comp1.txt\n",
    "```"
   ]
  },
  {
   "cell_type": "code",
   "execution_count": 10,
   "id": "abc5363a-43bf-4b2b-b070-5c4c97c61e77",
   "metadata": {},
   "outputs": [
    {
     "name": "stdout",
     "output_type": "stream",
     "text": [
      "CO\n",
      "NO2\n",
      "NO\n",
      "NOX\n",
      "O3\n",
      "PM10\n",
      "PM2.5\n",
      "PMCO\n",
      "SO2\n",
      "9 compuestos.txt\n"
     ]
    }
   ],
   "source": [
    "%%bash -l\n",
    "\n",
    "uniq lista_comp1.txt > compuestos.txt\n",
    "\n",
    "head compuestos.txt\n",
    "# muestra el número de renglones\n",
    "wc -l compuestos.txt"
   ]
  },
  {
   "cell_type": "markdown",
   "id": "99e3f0fa-54f1-4abc-b56b-c3f7932bc7bd",
   "metadata": {},
   "source": [
    "### CASO 9\n",
    "\n",
    "Extraer las estaciones unicas a partir del archivo original lista.txt\n",
    "\n",
    "Método 1\n",
    "```\n",
    "cut -d, -f3 lista.dat |sort |uniq > estaciones_unicas.txt\n",
    "\n",
    "```\n",
    "Método 2\n",
    "```\n",
    "cut -d, -f3 lista.dat |sort -u -o estaciones_unicas.txt\n",
    "```"
   ]
  },
  {
   "cell_type": "code",
   "execution_count": 11,
   "id": "61972425-3011-40cd-9317-e33dbef60394",
   "metadata": {},
   "outputs": [
    {
     "name": "stdout",
     "output_type": "stream",
     "text": [
      "ACO\n",
      "AJM\n",
      "AJU\n",
      "...\n",
      "MON\n",
      "MPA\n",
      "SAC\n",
      "numero de líneas en el archivo\n",
      "17 estaciones_unicas.txt\n"
     ]
    }
   ],
   "source": [
    "%%bash -l\n",
    "\n",
    "cut -d, -f3 lista.dat |sort |uniq > estaciones_unicas.txt\n",
    "\n",
    "# Para comprobar:\n",
    "head -3 estaciones_unicas.txt \n",
    "echo ...\n",
    "tail -3 estaciones_unicas.txt\n",
    "echo \"numero de líneas en el archivo\"\n",
    "wc -l  estaciones_unicas.txt"
   ]
  },
  {
   "cell_type": "markdown",
   "id": "192ba2db-e6ab-44f9-9fd6-0a6151601ebb",
   "metadata": {},
   "source": [
    "# JOIN\n",
    "\n",
    "join - junta las líneas de dos archivos con un archivo en comun.\n",
    "\n",
    "### Caso 10\n",
    "\n",
    "Se requiere de anexar al archivo con las estaciones ordenadas (archivo *lista_Est.txt*) los datos de descripción y ubicación de las estaciones que estan en el archivo  *des_estaciones.txt*,  sabiendo que tiene en común los tres caracteres que describen la estación:\n",
    "```\n",
    "lista_Est.txt\n",
    "01/01/2021 02:00,CO,ACO\n",
    "01/01/2021 02:00,CO,ACO\n",
    "01/01/2021 02:00,NO2,ACO\n",
    "\n",
    "des_estaciones.dat\n",
    "ACO,Acolman,19.635501,-98.912003\n",
    "AJM,Ajusco Medio,19.272161,-99.207744\n",
    "AJU,Ajusco,19.154286,-99.162611\n",
    "ARA,Aragón,19.470218,-99.074549\n",
    "ATI,Atizapan,19.576963,-99.254133\n",
    "```\n",
    " Con lo anterior se empleará ***join*** :\n",
    " \n",
    "```\n",
    "join -t, -13 lista_Est.txt des_estaciones.dat > list_Est_lo_lat.txt\n",
    "```\n",
    "Considerando que la columa que posee el identificador de la estación es la 3 en el archivo  _lista_Est.txt_ (***-13*** :archivo 1 campo 3) y la columna 1 en el archivo _des_Estaciones.txt_ ambos poseen como  separador de campos la coma (-t,)"
   ]
  },
  {
   "cell_type": "code",
   "execution_count": 12,
   "id": "6129e626-ab63-4b42-928b-b194e9c3712b",
   "metadata": {},
   "outputs": [
    {
     "name": "stdout",
     "output_type": "stream",
     "text": [
      "...\n"
     ]
    },
    {
     "name": "stderr",
     "output_type": "stream",
     "text": [
      "join: des_estaciones.dat: No existe el fichero o el directorio\n"
     ]
    }
   ],
   "source": [
    "%%bash -l\n",
    "\n",
    "join -t, -13 -21 lista_Est.txt des_estaciones.dat > list_Est_lon_lat.txt\n",
    "\n",
    "# Para revisar la lista\n",
    "head -3 list_Est_lon_lat.txt\n",
    "echo ...\n",
    "tail -3 list_Est_lon_lat.txt"
   ]
  },
  {
   "cell_type": "markdown",
   "id": "ea25fd0e-ff6d-4e5d-8463-1c0d0d363320",
   "metadata": {},
   "source": [
    "# PASTE\n",
    "\n",
    "paste - combina líneas de ficheros\n",
    "\n",
    "Escribe  secuencialmente  en  la  salida  estándar  cada  línea de los ARCHIVOs especificados, separadas por tabuladores.\n",
    "\n",
    "### Caso 11\n",
    "\n",
    "Se tiene el archivo de __id_est.txt__ y se desea acoplar con el archivo de localización __loc.txt__\n",
    "\n",
    "```\n",
    "id_est.txt     loc.txt\n",
    " \n",
    "DIC             19.298819 -99.185774\n",
    "EDL             19.313357 -99.310635\n",
    "INN             19.291968 -99.38052\n",
    "LPR             19.534727 -99.11772\n",
    "MON             19.460415 -98.902853\n",
    "```\n",
    "para juntarlos se emplea\n",
    "\n",
    "```\n",
    "paste id_est.txt loc.txt > combinado.txt\n",
    "```\n"
   ]
  },
  {
   "cell_type": "code",
   "execution_count": 13,
   "id": "5ebd6d0c-d12d-44f4-821b-c4a74e65f7cf",
   "metadata": {},
   "outputs": [
    {
     "name": "stdout",
     "output_type": "stream",
     "text": [
      "DIC\t19.298819\t-99.185774\n",
      "EDL\t19.313357\t-99.310635\n",
      "INN\t19.291968\t-99.38052\n",
      "LPR\t19.534727\t-99.11772\n",
      "MON\t19.460415\t-98.902853\n"
     ]
    }
   ],
   "source": [
    "%%bash -l\n",
    "# Crea los archivos a combinar\n",
    "\n",
    "cat > id_est.txt << FDA\n",
    "DIC\n",
    "EDL\n",
    "INN\n",
    "LPR\n",
    "MON\n",
    "FDA\n",
    "cat > loc << FDA\n",
    "19.298819 -99.185774\n",
    "19.313357 -99.310635\n",
    "19.291968 -99.38052\n",
    "19.534727 -99.11772\n",
    "19.460415 -98.902853\n",
    "FDA\n",
    "# cambia espacio por tabulacion.\n",
    "tr \" \" \"\\t\" < loc > t ;mv t loc.txt\n",
    "\n",
    "\n",
    "# Combina con PASTE\n",
    "\n",
    "paste id_est.txt loc.txt > combinado.txt\n",
    "\n",
    "#verifica la combinacion\n",
    "\n",
    "head combinado.txt\n",
    "\n",
    "# FDA simboliza Fin De Archivo \n",
    "# pero puede ser cualquier otro termino (EOF, END, etc)"
   ]
  },
  {
   "cell_type": "markdown",
   "id": "78d054c1-e314-4818-b3cb-eb17456c1102",
   "metadata": {},
   "source": [
    "## GREP en archivos\n",
    "\n",
    "Tambien se puede realizar la búsqueda de un patrón de caracteres en varios archivos"
   ]
  },
  {
   "cell_type": "code",
   "execution_count": 14,
   "id": "ba02b6bc-0bfb-4713-bd2b-a95ae25685d0",
   "metadata": {},
   "outputs": [
    {
     "name": "stdout",
     "output_type": "stream",
     "text": [
      "lista_comp_esp.txt\n",
      "lista_comp.txt\n",
      "lista.dat\n",
      "lista_Est_tab.txt\n",
      "lista_Est.txt\n"
     ]
    }
   ],
   "source": [
    "%%bash -l\n",
    "# Busqueda de patrones en varios archivos\n",
    "\n",
    "grep -l ACO list*\n",
    "\n",
    "# indica en que archivos que inician con list se encuentra ACO "
   ]
  },
  {
   "cell_type": "code",
   "execution_count": 15,
   "id": "244ff9ac-ba90-42bb-a448-2145e4442a55",
   "metadata": {},
   "outputs": [],
   "source": [
    "%%bash -l\n",
    "\n",
    "# se borran los archivos empleados en el ejercicio\n",
    "rm lista_Est.txt list_Est_lon_lat.txt\n",
    "rm combinado.txt id_est.txt loc.txt loc\n",
    "rm lista_comp.txt  lista_Est_tab.txt lista_comp_esp.txt lista_comp1.txt\n",
    "rm compuestos.txt estaciones_unicas.txt "
   ]
  },
  {
   "cell_type": "code",
   "execution_count": null,
   "id": "771a6000-48ab-4f89-941e-42561dbbd0d4",
   "metadata": {},
   "outputs": [],
   "source": []
  }
 ],
 "metadata": {
  "kernelspec": {
   "display_name": "Python 3 (ipykernel)",
   "language": "python",
   "name": "python3"
  },
  "language_info": {
   "codemirror_mode": {
    "name": "ipython",
    "version": 3
   },
   "file_extension": ".py",
   "mimetype": "text/x-python",
   "name": "python",
   "nbconvert_exporter": "python",
   "pygments_lexer": "ipython3",
   "version": "3.10.0"
  }
 },
 "nbformat": 4,
 "nbformat_minor": 5
}
